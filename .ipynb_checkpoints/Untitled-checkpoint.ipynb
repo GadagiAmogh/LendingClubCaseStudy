{
 "cells": [
  {
   "cell_type": "code",
   "execution_count": 1,
   "id": "7190c8a7",
   "metadata": {},
   "outputs": [],
   "source": [
    "import numpy as np\n",
    "import pandas as pd\n",
    "import matplotlib.pyplot as plt\n",
    "import seaborn as sns\n",
    "import warnings\n",
    "warnings.filterwarnings('ignore')"
   ]
  },
  {
   "cell_type": "code",
   "execution_count": 2,
   "id": "d3c44f33",
   "metadata": {},
   "outputs": [],
   "source": [
    "df = pd.read_csv('loan.csv', low_memory=False)"
   ]
  },
  {
   "cell_type": "markdown",
   "id": "0d4005dd",
   "metadata": {},
   "source": [
    "Getting the shape of the file"
   ]
  },
  {
   "cell_type": "code",
   "execution_count": 3,
   "id": "a4be7806",
   "metadata": {},
   "outputs": [
    {
     "data": {
      "text/plain": [
       "(39717, 111)"
      ]
     },
     "execution_count": 3,
     "metadata": {},
     "output_type": "execute_result"
    }
   ],
   "source": [
    "df.shape"
   ]
  },
  {
   "cell_type": "markdown",
   "id": "16ec55ed",
   "metadata": {},
   "source": [
    "Lets check out the columns with Null values and how many are in each column."
   ]
  },
  {
   "cell_type": "code",
   "execution_count": 4,
   "id": "fd5700cf",
   "metadata": {},
   "outputs": [
    {
     "data": {
      "text/plain": [
       "id                                0\n",
       "member_id                         0\n",
       "loan_amnt                         0\n",
       "funded_amnt                       0\n",
       "funded_amnt_inv                   0\n",
       "                              ...  \n",
       "tax_liens                        39\n",
       "tot_hi_cred_lim               39717\n",
       "total_bal_ex_mort             39717\n",
       "total_bc_limit                39717\n",
       "total_il_high_credit_limit    39717\n",
       "Length: 111, dtype: int64"
      ]
     },
     "execution_count": 4,
     "metadata": {},
     "output_type": "execute_result"
    }
   ],
   "source": [
    "df.isnull().sum()"
   ]
  },
  {
   "cell_type": "markdown",
   "id": "f2fa85c3",
   "metadata": {},
   "source": [
    "Since there are many columns with missing values and some columns are completely Null, lets drops these columns. Dropping the columns with more than half of the column value missing i.e. len(df)/2"
   ]
  },
  {
   "cell_type": "code",
   "execution_count": 5,
   "id": "711957d5",
   "metadata": {},
   "outputs": [],
   "source": [
    "df= df.dropna(thresh=len(df)-len(df)/2, axis=1)"
   ]
  },
  {
   "cell_type": "markdown",
   "id": "fd462bb9",
   "metadata": {},
   "source": [
    "Lets check the shape now"
   ]
  },
  {
   "cell_type": "code",
   "execution_count": 6,
   "id": "3549a90e",
   "metadata": {},
   "outputs": [
    {
     "data": {
      "text/plain": [
       "(39717, 54)"
      ]
     },
     "execution_count": 6,
     "metadata": {},
     "output_type": "execute_result"
    }
   ],
   "source": [
    "df.shape"
   ]
  },
  {
   "cell_type": "markdown",
   "id": "6eaf592d",
   "metadata": {},
   "source": [
    "Check the null values in columns again"
   ]
  },
  {
   "cell_type": "code",
   "execution_count": 7,
   "id": "5e08fa87",
   "metadata": {},
   "outputs": [
    {
     "data": {
      "text/plain": [
       "id                                0\n",
       "member_id                         0\n",
       "loan_amnt                         0\n",
       "funded_amnt                       0\n",
       "funded_amnt_inv                   0\n",
       "term                              0\n",
       "int_rate                          0\n",
       "installment                       0\n",
       "grade                             0\n",
       "sub_grade                         0\n",
       "emp_title                      2459\n",
       "emp_length                     1075\n",
       "home_ownership                    0\n",
       "annual_inc                        0\n",
       "verification_status               0\n",
       "issue_d                           0\n",
       "loan_status                       0\n",
       "pymnt_plan                        0\n",
       "url                               0\n",
       "desc                          12940\n",
       "purpose                           0\n",
       "title                            11\n",
       "zip_code                          0\n",
       "addr_state                        0\n",
       "dti                               0\n",
       "delinq_2yrs                       0\n",
       "earliest_cr_line                  0\n",
       "inq_last_6mths                    0\n",
       "open_acc                          0\n",
       "pub_rec                           0\n",
       "revol_bal                         0\n",
       "revol_util                       50\n",
       "total_acc                         0\n",
       "initial_list_status               0\n",
       "out_prncp                         0\n",
       "out_prncp_inv                     0\n",
       "total_pymnt                       0\n",
       "total_pymnt_inv                   0\n",
       "total_rec_prncp                   0\n",
       "total_rec_int                     0\n",
       "total_rec_late_fee                0\n",
       "recoveries                        0\n",
       "collection_recovery_fee           0\n",
       "last_pymnt_d                     71\n",
       "last_pymnt_amnt                   0\n",
       "last_credit_pull_d                2\n",
       "collections_12_mths_ex_med       56\n",
       "policy_code                       0\n",
       "application_type                  0\n",
       "acc_now_delinq                    0\n",
       "chargeoff_within_12_mths         56\n",
       "delinq_amnt                       0\n",
       "pub_rec_bankruptcies            697\n",
       "tax_liens                        39\n",
       "dtype: int64"
      ]
     },
     "execution_count": 7,
     "metadata": {},
     "output_type": "execute_result"
    }
   ],
   "source": [
    "df.isnull().sum()"
   ]
  },
  {
   "cell_type": "markdown",
   "id": "83cf18cd",
   "metadata": {},
   "source": [
    "Lets check the desc column and see if its important by checking out some of the unique values."
   ]
  },
  {
   "cell_type": "code",
   "execution_count": 8,
   "id": "76a60cdd",
   "metadata": {},
   "outputs": [
    {
     "data": {
      "text/plain": [
       "array(['  Borrower added on 12/22/11 > I need to upgrade my business technologies.<br>',\n",
       "       '  Borrower added on 12/22/11 > I plan to use this money to finance the motorcycle i am looking at. I plan to have it paid off as soon as possible/when i sell my old bike. I only need this money because the deal im looking at is to good to pass up.<br><br>  Borrower added on 12/22/11 > I plan to use this money to finance the motorcycle i am looking at. I plan to have it paid off as soon as possible/when i sell my old bike.I only need this money because the deal im looking at is to good to pass up. I have finished college with an associates degree in business and its takingmeplaces<br>',\n",
       "       nan, ...,\n",
       "       'Our current gutter system on our home is old and in need of repair.    We will be using the borrowed funds to replace the gutter system on our home.',\n",
       "       'The rate of interest and fees incurred by carrying a balance on my credit card are so outrageous at this point that continuing to pay them is patently bad financial thinking.  I wish to redirect my efforts at retiring my debt via another more-reasonable means.    I have sufficient funds to direct to this end on a monthly basis, and have simply gotten tired of their being gobbled up by interest and fees.',\n",
       "       'I plan to consolidate over $7,000 of debt: a combination of credit cards and student loans.'],\n",
       "      dtype=object)"
      ]
     },
     "execution_count": 8,
     "metadata": {},
     "output_type": "execute_result"
    }
   ],
   "source": [
    "df.desc.unique()"
   ]
  },
  {
   "cell_type": "markdown",
   "id": "1fc63241",
   "metadata": {},
   "source": [
    "This column doesn't seem to be important in our case and there are still many value missing values in the column, so its better to drop this column"
   ]
  },
  {
   "cell_type": "code",
   "execution_count": 9,
   "id": "f4cf2d85",
   "metadata": {},
   "outputs": [],
   "source": [
    "df =df.drop(['desc'], axis=1)"
   ]
  },
  {
   "cell_type": "code",
   "execution_count": 10,
   "id": "f0540924",
   "metadata": {},
   "outputs": [
    {
     "data": {
      "text/plain": [
       "id                               0\n",
       "member_id                        0\n",
       "loan_amnt                        0\n",
       "funded_amnt                      0\n",
       "funded_amnt_inv                  0\n",
       "term                             0\n",
       "int_rate                         0\n",
       "installment                      0\n",
       "grade                            0\n",
       "sub_grade                        0\n",
       "emp_title                     2459\n",
       "emp_length                    1075\n",
       "home_ownership                   0\n",
       "annual_inc                       0\n",
       "verification_status              0\n",
       "issue_d                          0\n",
       "loan_status                      0\n",
       "pymnt_plan                       0\n",
       "url                              0\n",
       "purpose                          0\n",
       "title                           11\n",
       "zip_code                         0\n",
       "addr_state                       0\n",
       "dti                              0\n",
       "delinq_2yrs                      0\n",
       "earliest_cr_line                 0\n",
       "inq_last_6mths                   0\n",
       "open_acc                         0\n",
       "pub_rec                          0\n",
       "revol_bal                        0\n",
       "revol_util                      50\n",
       "total_acc                        0\n",
       "initial_list_status              0\n",
       "out_prncp                        0\n",
       "out_prncp_inv                    0\n",
       "total_pymnt                      0\n",
       "total_pymnt_inv                  0\n",
       "total_rec_prncp                  0\n",
       "total_rec_int                    0\n",
       "total_rec_late_fee               0\n",
       "recoveries                       0\n",
       "collection_recovery_fee          0\n",
       "last_pymnt_d                    71\n",
       "last_pymnt_amnt                  0\n",
       "last_credit_pull_d               2\n",
       "collections_12_mths_ex_med      56\n",
       "policy_code                      0\n",
       "application_type                 0\n",
       "acc_now_delinq                   0\n",
       "chargeoff_within_12_mths        56\n",
       "delinq_amnt                      0\n",
       "pub_rec_bankruptcies           697\n",
       "tax_liens                       39\n",
       "dtype: int64"
      ]
     },
     "execution_count": 10,
     "metadata": {},
     "output_type": "execute_result"
    }
   ],
   "source": [
    "df.isnull().sum()"
   ]
  },
  {
   "cell_type": "markdown",
   "id": "7b9c08ea",
   "metadata": {},
   "source": [
    "Lets check the columns with null values and check their unique value and determine if these are important for our analysis."
   ]
  },
  {
   "cell_type": "code",
   "execution_count": 11,
   "id": "91a02b7b",
   "metadata": {},
   "outputs": [
    {
     "data": {
      "text/plain": [
       "array(['10+ years', '< 1 year', '1 year', '3 years', '8 years', '9 years',\n",
       "       '4 years', '5 years', '6 years', '2 years', '7 years', nan],\n",
       "      dtype=object)"
      ]
     },
     "execution_count": 11,
     "metadata": {},
     "output_type": "execute_result"
    }
   ],
   "source": [
    "df.emp_length.unique()"
   ]
  },
  {
   "cell_type": "code",
   "execution_count": 12,
   "id": "346b4414",
   "metadata": {},
   "outputs": [
    {
     "data": {
      "text/plain": [
       "array([nan, 'Ryder', 'AIR RESOURCES BOARD', ..., 'FiSite Research',\n",
       "       'Squarewave Solutions, Ltd.', 'Evergreen Center'], dtype=object)"
      ]
     },
     "execution_count": 12,
     "metadata": {},
     "output_type": "execute_result"
    }
   ],
   "source": [
    "df.emp_title.unique()"
   ]
  },
  {
   "cell_type": "code",
   "execution_count": 13,
   "id": "33e10ea7",
   "metadata": {},
   "outputs": [
    {
     "data": {
      "text/plain": [
       "array(['Computer', 'bike', 'real estate business', ...,\n",
       "       'Retiring credit card debt', 'MBA Loan Consolidation', 'JAL Loan'],\n",
       "      dtype=object)"
      ]
     },
     "execution_count": 13,
     "metadata": {},
     "output_type": "execute_result"
    }
   ],
   "source": [
    "df.title.unique()                         "
   ]
  },
  {
   "cell_type": "code",
   "execution_count": 14,
   "id": "2868b27e",
   "metadata": {},
   "outputs": [
    {
     "data": {
      "text/plain": [
       "array(['83.70%', '9.40%', '98.50%', ..., '49.63%', '0.04%', '7.28%'],\n",
       "      dtype=object)"
      ]
     },
     "execution_count": 14,
     "metadata": {},
     "output_type": "execute_result"
    }
   ],
   "source": [
    "df.revol_util.unique() "
   ]
  },
  {
   "cell_type": "code",
   "execution_count": 15,
   "id": "be90f383",
   "metadata": {},
   "outputs": [
    {
     "data": {
      "text/plain": [
       "array(['Jan-15', 'Apr-13', 'Jun-14', 'May-16', 'Apr-12', 'Nov-12',\n",
       "       'Jun-13', 'Sep-13', 'Jul-12', 'Oct-13', 'May-13', 'Feb-15',\n",
       "       'Aug-15', 'Oct-12', 'Sep-12', nan, 'Dec-12', 'Dec-14', 'Aug-13',\n",
       "       'Nov-13', 'Jan-14', 'Apr-14', 'Aug-14', 'Oct-14', 'Aug-12',\n",
       "       'Jul-14', 'Jul-13', 'Jan-16', 'Feb-16', 'Apr-15', 'Feb-14',\n",
       "       'Sep-14', 'Jun-12', 'Feb-13', 'Mar-13', 'May-14', 'Mar-15',\n",
       "       'Jan-13', 'Dec-13', 'Feb-12', 'Mar-14', 'Sep-15', 'Nov-15',\n",
       "       'Mar-16', 'Jan-12', 'Oct-15', 'Nov-14', 'Mar-12', 'May-12',\n",
       "       'Apr-16', 'Dec-15', 'Jun-15', 'May-15', 'Jul-15', 'Dec-11',\n",
       "       'Nov-11', 'Oct-11', 'Sep-11', 'Aug-11', 'Jul-11', 'Jun-11',\n",
       "       'May-11', 'Apr-11', 'Mar-11', 'Feb-11', 'Jan-11', 'Dec-10',\n",
       "       'Nov-10', 'Oct-10', 'Sep-10', 'Aug-10', 'Jul-10', 'Jun-10',\n",
       "       'May-10', 'Apr-10', 'Mar-10', 'Feb-10', 'Jan-10', 'Dec-09',\n",
       "       'Nov-09', 'Oct-09', 'Sep-09', 'Aug-09', 'Jul-09', 'Jun-09',\n",
       "       'May-09', 'Apr-09', 'Mar-09', 'Feb-09', 'Jan-09', 'Dec-08',\n",
       "       'Oct-08', 'Aug-08', 'Jul-08', 'Sep-08', 'Jun-08', 'May-08',\n",
       "       'Nov-08', 'Apr-08', 'Mar-08', 'Feb-08', 'Jan-08'], dtype=object)"
      ]
     },
     "execution_count": 15,
     "metadata": {},
     "output_type": "execute_result"
    }
   ],
   "source": [
    "df.last_pymnt_d.unique()  "
   ]
  },
  {
   "cell_type": "code",
   "execution_count": 16,
   "id": "54aa1711",
   "metadata": {},
   "outputs": [
    {
     "data": {
      "text/plain": [
       "array([ 0., nan])"
      ]
     },
     "execution_count": 16,
     "metadata": {},
     "output_type": "execute_result"
    }
   ],
   "source": [
    "df.collections_12_mths_ex_med.unique()"
   ]
  },
  {
   "cell_type": "code",
   "execution_count": 17,
   "id": "b82408ce",
   "metadata": {},
   "outputs": [
    {
     "data": {
      "text/plain": [
       "array([ 0., nan])"
      ]
     },
     "execution_count": 17,
     "metadata": {},
     "output_type": "execute_result"
    }
   ],
   "source": [
    "df.chargeoff_within_12_mths.unique()"
   ]
  },
  {
   "cell_type": "code",
   "execution_count": 18,
   "id": "d237a3f8",
   "metadata": {},
   "outputs": [
    {
     "data": {
      "text/plain": [
       "array([ 0.,  1.,  2., nan])"
      ]
     },
     "execution_count": 18,
     "metadata": {},
     "output_type": "execute_result"
    }
   ],
   "source": [
    "df.pub_rec_bankruptcies.unique()"
   ]
  },
  {
   "cell_type": "code",
   "execution_count": 19,
   "id": "63ec15b4",
   "metadata": {},
   "outputs": [
    {
     "data": {
      "text/plain": [
       "array([ 0., nan])"
      ]
     },
     "execution_count": 19,
     "metadata": {},
     "output_type": "execute_result"
    }
   ],
   "source": [
    "df.tax_liens.unique()"
   ]
  },
  {
   "cell_type": "markdown",
   "id": "666acfe6",
   "metadata": {},
   "source": [
    "The columns 'collections_12_mths_ex_med', 'chargeoff_within_12_mths' and 'tax_liens' have either 0 or NA. Hence these columns won't be of importance in our analysis. \n",
    "\n",
    "Lets drops these columns to further clean our data."
   ]
  },
  {
   "cell_type": "code",
   "execution_count": 20,
   "id": "aae0f5e3",
   "metadata": {},
   "outputs": [],
   "source": [
    "df = df.drop(['collections_12_mths_ex_med', 'chargeoff_within_12_mths', 'tax_liens'], axis =1)"
   ]
  },
  {
   "cell_type": "code",
   "execution_count": 21,
   "id": "dd611506",
   "metadata": {},
   "outputs": [
    {
     "data": {
      "text/plain": [
       "(39717, 50)"
      ]
     },
     "execution_count": 21,
     "metadata": {},
     "output_type": "execute_result"
    }
   ],
   "source": [
    "df.shape"
   ]
  },
  {
   "cell_type": "code",
   "execution_count": 22,
   "id": "7cdeade9",
   "metadata": {},
   "outputs": [
    {
     "data": {
      "text/plain": [
       "id                            0\n",
       "member_id                     0\n",
       "loan_amnt                     0\n",
       "funded_amnt                   0\n",
       "funded_amnt_inv               0\n",
       "term                          0\n",
       "int_rate                      0\n",
       "installment                   0\n",
       "grade                         0\n",
       "sub_grade                     0\n",
       "emp_title                  2459\n",
       "emp_length                 1075\n",
       "home_ownership                0\n",
       "annual_inc                    0\n",
       "verification_status           0\n",
       "issue_d                       0\n",
       "loan_status                   0\n",
       "pymnt_plan                    0\n",
       "url                           0\n",
       "purpose                       0\n",
       "title                        11\n",
       "zip_code                      0\n",
       "addr_state                    0\n",
       "dti                           0\n",
       "delinq_2yrs                   0\n",
       "earliest_cr_line              0\n",
       "inq_last_6mths                0\n",
       "open_acc                      0\n",
       "pub_rec                       0\n",
       "revol_bal                     0\n",
       "revol_util                   50\n",
       "total_acc                     0\n",
       "initial_list_status           0\n",
       "out_prncp                     0\n",
       "out_prncp_inv                 0\n",
       "total_pymnt                   0\n",
       "total_pymnt_inv               0\n",
       "total_rec_prncp               0\n",
       "total_rec_int                 0\n",
       "total_rec_late_fee            0\n",
       "recoveries                    0\n",
       "collection_recovery_fee       0\n",
       "last_pymnt_d                 71\n",
       "last_pymnt_amnt               0\n",
       "last_credit_pull_d            2\n",
       "policy_code                   0\n",
       "application_type              0\n",
       "acc_now_delinq                0\n",
       "delinq_amnt                   0\n",
       "pub_rec_bankruptcies        697\n",
       "dtype: int64"
      ]
     },
     "execution_count": 22,
     "metadata": {},
     "output_type": "execute_result"
    }
   ],
   "source": [
    "df.isnull().sum()"
   ]
  },
  {
   "cell_type": "code",
   "execution_count": 23,
   "id": "b8279034",
   "metadata": {},
   "outputs": [
    {
     "data": {
      "text/plain": [
       "0.0    37339\n",
       "1.0     1674\n",
       "2.0        7\n",
       "Name: pub_rec_bankruptcies, dtype: int64"
      ]
     },
     "execution_count": 23,
     "metadata": {},
     "output_type": "execute_result"
    }
   ],
   "source": [
    "df.pub_rec_bankruptcies.value_counts()"
   ]
  },
  {
   "cell_type": "markdown",
   "id": "218c937a",
   "metadata": {},
   "source": [
    "Now lets remove the rows of 'emp_title', 'emp_length' and 'pub_rec_bankruptcies'. We could have imputed the values but instead we opt to remove them as this is big dataset and wouldn't be a problem in our analysis. The columns 'emp_title' and 'emp_length' have information about the customer title/designation and their employment in length. Imputing wouldn't be a clever choice. \n",
    "\n",
    "Significant rows have bankruptcies value = 0. Removing the null values would further help our analysis and wouldn't add any bias to the data. Note:There are no null values and hence we don't have to perform any operation."
   ]
  },
  {
   "cell_type": "code",
   "execution_count": 24,
   "id": "58c32c99",
   "metadata": {},
   "outputs": [],
   "source": [
    "df = df[~df.emp_title.isnull()]\n",
    "df=df[~df.emp_length.isnull()]\n",
    "df=df[~df.pub_rec_bankruptcies.isnull()]"
   ]
  },
  {
   "cell_type": "code",
   "execution_count": 25,
   "id": "17f22c5e",
   "metadata": {},
   "outputs": [
    {
     "data": {
      "text/plain": [
       "(36548, 50)"
      ]
     },
     "execution_count": 25,
     "metadata": {},
     "output_type": "execute_result"
    }
   ],
   "source": [
    "df.shape"
   ]
  },
  {
   "cell_type": "code",
   "execution_count": 26,
   "id": "688831a8",
   "metadata": {},
   "outputs": [
    {
     "data": {
      "text/plain": [
       "id                          0\n",
       "member_id                   0\n",
       "loan_amnt                   0\n",
       "funded_amnt                 0\n",
       "funded_amnt_inv             0\n",
       "term                        0\n",
       "int_rate                    0\n",
       "installment                 0\n",
       "grade                       0\n",
       "sub_grade                   0\n",
       "emp_title                   0\n",
       "emp_length                  0\n",
       "home_ownership              0\n",
       "annual_inc                  0\n",
       "verification_status         0\n",
       "issue_d                     0\n",
       "loan_status                 0\n",
       "pymnt_plan                  0\n",
       "url                         0\n",
       "purpose                     0\n",
       "title                       9\n",
       "zip_code                    0\n",
       "addr_state                  0\n",
       "dti                         0\n",
       "delinq_2yrs                 0\n",
       "earliest_cr_line            0\n",
       "inq_last_6mths              0\n",
       "open_acc                    0\n",
       "pub_rec                     0\n",
       "revol_bal                   0\n",
       "revol_util                 46\n",
       "total_acc                   0\n",
       "initial_list_status         0\n",
       "out_prncp                   0\n",
       "out_prncp_inv               0\n",
       "total_pymnt                 0\n",
       "total_pymnt_inv             0\n",
       "total_rec_prncp             0\n",
       "total_rec_int               0\n",
       "total_rec_late_fee          0\n",
       "recoveries                  0\n",
       "collection_recovery_fee     0\n",
       "last_pymnt_d               64\n",
       "last_pymnt_amnt             0\n",
       "last_credit_pull_d          0\n",
       "policy_code                 0\n",
       "application_type            0\n",
       "acc_now_delinq              0\n",
       "delinq_amnt                 0\n",
       "pub_rec_bankruptcies        0\n",
       "dtype: int64"
      ]
     },
     "execution_count": 26,
     "metadata": {},
     "output_type": "execute_result"
    }
   ],
   "source": [
    "df.isnull().sum()"
   ]
  },
  {
   "cell_type": "code",
   "execution_count": 27,
   "id": "fd9a1df1",
   "metadata": {},
   "outputs": [
    {
     "data": {
      "text/plain": [
       "array(['9.40%', '21%', '53.90%', ..., '49.63%', '0.04%', '7.28%'],\n",
       "      dtype=object)"
      ]
     },
     "execution_count": 27,
     "metadata": {},
     "output_type": "execute_result"
    }
   ],
   "source": [
    "df.revol_util.unique()"
   ]
  },
  {
   "cell_type": "code",
   "execution_count": 28,
   "id": "83ed7639",
   "metadata": {},
   "outputs": [
    {
     "data": {
      "text/plain": [
       "array(['Apr-13', 'Jan-15', 'May-16', 'Nov-12', 'Jun-13', 'Sep-13',\n",
       "       'Jul-12', 'Oct-13', 'May-13', 'Feb-15', 'Aug-15', 'Oct-12',\n",
       "       'Sep-12', nan, 'Dec-12', 'Dec-14', 'Aug-13', 'Nov-13', 'Jan-14',\n",
       "       'Apr-14', 'Aug-14', 'Oct-14', 'Aug-12', 'Jul-14', 'Jul-13',\n",
       "       'Jan-16', 'Apr-15', 'Feb-14', 'Sep-14', 'Jun-12', 'Feb-13',\n",
       "       'Mar-13', 'May-14', 'Mar-15', 'Jan-13', 'Dec-13', 'Jun-14',\n",
       "       'Feb-12', 'Mar-14', 'Apr-12', 'Sep-15', 'Nov-15', 'Mar-16',\n",
       "       'Feb-16', 'Jan-12', 'Oct-15', 'Nov-14', 'Mar-12', 'May-12',\n",
       "       'Apr-16', 'Dec-15', 'Jun-15', 'May-15', 'Jul-15', 'Dec-11',\n",
       "       'Nov-11', 'Oct-11', 'Sep-11', 'Aug-11', 'Jul-11', 'Jun-11',\n",
       "       'May-11', 'Apr-11', 'Mar-11', 'Feb-11', 'Jan-11', 'Dec-10',\n",
       "       'Nov-10', 'Oct-10', 'Sep-10', 'Aug-10', 'Jul-10', 'Jun-10',\n",
       "       'May-10', 'Apr-10', 'Mar-10', 'Feb-10', 'Jan-10', 'Dec-09',\n",
       "       'Nov-09', 'Oct-09', 'Sep-09', 'Aug-09', 'Jul-09', 'Jun-09',\n",
       "       'May-09', 'Apr-09', 'Mar-09', 'Feb-09', 'Jan-09', 'Dec-08',\n",
       "       'Oct-08', 'Aug-08', 'Jul-08', 'Sep-08', 'Jun-08', 'May-08',\n",
       "       'Nov-08'], dtype=object)"
      ]
     },
     "execution_count": 28,
     "metadata": {},
     "output_type": "execute_result"
    }
   ],
   "source": [
    "df.last_pymnt_d.unique()"
   ]
  },
  {
   "cell_type": "code",
   "execution_count": 29,
   "id": "30d16532",
   "metadata": {},
   "outputs": [
    {
     "data": {
      "text/plain": [
       "array(['bike', 'personel', 'Personal', ...,\n",
       "       'Want to pay off high intrest cards',\n",
       "       'paying credit cards and doctor bill.',\n",
       "       'Merging 2 Accounts into one to save $$'], dtype=object)"
      ]
     },
     "execution_count": 29,
     "metadata": {},
     "output_type": "execute_result"
    }
   ],
   "source": [
    "df.title.unique()"
   ]
  },
  {
   "cell_type": "markdown",
   "id": "9c3bdd16",
   "metadata": {},
   "source": [
    "We are left with 3 columns with null values and lets further clean the data by removing these columns. "
   ]
  },
  {
   "cell_type": "code",
   "execution_count": 30,
   "id": "3d40e64f",
   "metadata": {},
   "outputs": [],
   "source": [
    "df= df[~df.title.isnull()]\n",
    "df= df[~df.last_pymnt_d.isnull()]\n",
    "df=df[~df.revol_util.isnull()]"
   ]
  },
  {
   "cell_type": "code",
   "execution_count": 31,
   "id": "c9a2989c",
   "metadata": {},
   "outputs": [
    {
     "data": {
      "text/plain": [
       "id                         0\n",
       "member_id                  0\n",
       "loan_amnt                  0\n",
       "funded_amnt                0\n",
       "funded_amnt_inv            0\n",
       "term                       0\n",
       "int_rate                   0\n",
       "installment                0\n",
       "grade                      0\n",
       "sub_grade                  0\n",
       "emp_title                  0\n",
       "emp_length                 0\n",
       "home_ownership             0\n",
       "annual_inc                 0\n",
       "verification_status        0\n",
       "issue_d                    0\n",
       "loan_status                0\n",
       "pymnt_plan                 0\n",
       "url                        0\n",
       "purpose                    0\n",
       "title                      0\n",
       "zip_code                   0\n",
       "addr_state                 0\n",
       "dti                        0\n",
       "delinq_2yrs                0\n",
       "earliest_cr_line           0\n",
       "inq_last_6mths             0\n",
       "open_acc                   0\n",
       "pub_rec                    0\n",
       "revol_bal                  0\n",
       "revol_util                 0\n",
       "total_acc                  0\n",
       "initial_list_status        0\n",
       "out_prncp                  0\n",
       "out_prncp_inv              0\n",
       "total_pymnt                0\n",
       "total_pymnt_inv            0\n",
       "total_rec_prncp            0\n",
       "total_rec_int              0\n",
       "total_rec_late_fee         0\n",
       "recoveries                 0\n",
       "collection_recovery_fee    0\n",
       "last_pymnt_d               0\n",
       "last_pymnt_amnt            0\n",
       "last_credit_pull_d         0\n",
       "policy_code                0\n",
       "application_type           0\n",
       "acc_now_delinq             0\n",
       "delinq_amnt                0\n",
       "pub_rec_bankruptcies       0\n",
       "dtype: int64"
      ]
     },
     "execution_count": 31,
     "metadata": {},
     "output_type": "execute_result"
    }
   ],
   "source": [
    "df.isnull().sum()"
   ]
  },
  {
   "cell_type": "code",
   "execution_count": 32,
   "id": "b314c9ce",
   "metadata": {},
   "outputs": [
    {
     "data": {
      "text/plain": [
       "(36433, 50)"
      ]
     },
     "execution_count": 32,
     "metadata": {},
     "output_type": "execute_result"
    }
   ],
   "source": [
    "df.shape"
   ]
  },
  {
   "cell_type": "code",
   "execution_count": 33,
   "id": "1245c44d",
   "metadata": {},
   "outputs": [
    {
     "data": {
      "text/plain": [
       "['id',\n",
       " 'member_id',\n",
       " 'loan_amnt',\n",
       " 'funded_amnt',\n",
       " 'funded_amnt_inv',\n",
       " 'term',\n",
       " 'int_rate',\n",
       " 'installment',\n",
       " 'grade',\n",
       " 'sub_grade',\n",
       " 'emp_title',\n",
       " 'emp_length',\n",
       " 'home_ownership',\n",
       " 'annual_inc',\n",
       " 'verification_status',\n",
       " 'issue_d',\n",
       " 'loan_status',\n",
       " 'pymnt_plan',\n",
       " 'url',\n",
       " 'purpose',\n",
       " 'title',\n",
       " 'zip_code',\n",
       " 'addr_state',\n",
       " 'dti',\n",
       " 'delinq_2yrs',\n",
       " 'earliest_cr_line',\n",
       " 'inq_last_6mths',\n",
       " 'open_acc',\n",
       " 'pub_rec',\n",
       " 'revol_bal',\n",
       " 'revol_util',\n",
       " 'total_acc',\n",
       " 'initial_list_status',\n",
       " 'out_prncp',\n",
       " 'out_prncp_inv',\n",
       " 'total_pymnt',\n",
       " 'total_pymnt_inv',\n",
       " 'total_rec_prncp',\n",
       " 'total_rec_int',\n",
       " 'total_rec_late_fee',\n",
       " 'recoveries',\n",
       " 'collection_recovery_fee',\n",
       " 'last_pymnt_d',\n",
       " 'last_pymnt_amnt',\n",
       " 'last_credit_pull_d',\n",
       " 'policy_code',\n",
       " 'application_type',\n",
       " 'acc_now_delinq',\n",
       " 'delinq_amnt',\n",
       " 'pub_rec_bankruptcies']"
      ]
     },
     "execution_count": 33,
     "metadata": {},
     "output_type": "execute_result"
    }
   ],
   "source": [
    "df.columns.to_list()"
   ]
  },
  {
   "cell_type": "code",
   "execution_count": 34,
   "id": "c60b1ea3",
   "metadata": {},
   "outputs": [
    {
     "data": {
      "text/plain": [
       "acc_now_delinq                 1\n",
       "application_type               1\n",
       "policy_code                    1\n",
       "initial_list_status            1\n",
       "delinq_amnt                    1\n",
       "pymnt_plan                     1\n",
       "term                           2\n",
       "pub_rec_bankruptcies           3\n",
       "loan_status                    3\n",
       "verification_status            3\n",
       "home_ownership                 4\n",
       "pub_rec                        5\n",
       "grade                          7\n",
       "inq_last_6mths                 9\n",
       "delinq_2yrs                   11\n",
       "emp_length                    11\n",
       "purpose                       14\n",
       "sub_grade                     35\n",
       "open_acc                      38\n",
       "addr_state                    49\n",
       "issue_d                       52\n",
       "total_acc                     79\n",
       "last_credit_pull_d            96\n",
       "last_pymnt_d                  97\n",
       "int_rate                     334\n",
       "earliest_cr_line             510\n",
       "zip_code                     806\n",
       "loan_amnt                    863\n",
       "funded_amnt                 1024\n",
       "out_prncp                   1064\n",
       "out_prncp_inv               1065\n",
       "revol_util                  1082\n",
       "total_rec_late_fee          1194\n",
       "collection_recovery_fee     2386\n",
       "dti                         2857\n",
       "recoveries                  3585\n",
       "annual_inc                  4924\n",
       "total_rec_prncp             7254\n",
       "funded_amnt_inv             7474\n",
       "installment                14367\n",
       "title                      17954\n",
       "revol_bal                  20790\n",
       "emp_title                  28207\n",
       "last_pymnt_amnt            32467\n",
       "total_rec_int              32523\n",
       "total_pymnt_inv            34524\n",
       "total_pymnt                34802\n",
       "url                        36433\n",
       "member_id                  36433\n",
       "id                         36433\n",
       "dtype: int64"
      ]
     },
     "execution_count": 34,
     "metadata": {},
     "output_type": "execute_result"
    }
   ],
   "source": [
    "df.nunique().sort_values()"
   ]
  },
  {
   "cell_type": "code",
   "execution_count": 35,
   "id": "a61cee33",
   "metadata": {},
   "outputs": [
    {
     "data": {
      "text/plain": [
       "array(['car', 'other', 'wedding', 'debt_consolidation', 'credit_card',\n",
       "       'home_improvement', 'major_purchase', 'medical', 'moving',\n",
       "       'small_business', 'vacation', 'house', 'renewable_energy',\n",
       "       'educational'], dtype=object)"
      ]
     },
     "execution_count": 35,
     "metadata": {},
     "output_type": "execute_result"
    }
   ],
   "source": [
    "df.purpose.unique()"
   ]
  },
  {
   "cell_type": "markdown",
   "id": "264a4c1d",
   "metadata": {},
   "source": [
    "Let's drop columns which seem less important for our analysis such as\n",
    "1. id\n",
    "2. member_id\n",
    "3. zip_code\n",
    "4. url\n",
    "5. policy code\n",
    "6. acc_now_delinq\n",
    "7. application_type\n",
    "8. initial_list_status\n",
    "9.pymnt_plan\n",
    "10.delinq_amnt\n",
    "11.Funded amount is same as loan amount, hence remove this\n",
    "12.funded_amnt_inv is also as same as funded amount."
   ]
  },
  {
   "cell_type": "code",
   "execution_count": 36,
   "id": "5de44a90",
   "metadata": {},
   "outputs": [],
   "source": [
    "df=df.drop(['acc_now_delinq', 'application_type', 'policy_code', 'funded_amnt', 'url', 'member_id','zip_code', 'id', 'initial_list_status', 'pymnt_plan', 'funded_amnt_inv', 'delinq_amnt'], axis =1)"
   ]
  },
  {
   "cell_type": "code",
   "execution_count": 37,
   "id": "a1418cf4",
   "metadata": {},
   "outputs": [
    {
     "data": {
      "text/plain": [
       "(36433, 38)"
      ]
     },
     "execution_count": 37,
     "metadata": {},
     "output_type": "execute_result"
    }
   ],
   "source": [
    "df.shape"
   ]
  },
  {
   "cell_type": "code",
   "execution_count": 38,
   "id": "fa53ee37",
   "metadata": {},
   "outputs": [
    {
     "data": {
      "text/plain": [
       "['loan_amnt',\n",
       " 'term',\n",
       " 'int_rate',\n",
       " 'installment',\n",
       " 'grade',\n",
       " 'sub_grade',\n",
       " 'emp_title',\n",
       " 'emp_length',\n",
       " 'home_ownership',\n",
       " 'annual_inc',\n",
       " 'verification_status',\n",
       " 'issue_d',\n",
       " 'loan_status',\n",
       " 'purpose',\n",
       " 'title',\n",
       " 'addr_state',\n",
       " 'dti',\n",
       " 'delinq_2yrs',\n",
       " 'earliest_cr_line',\n",
       " 'inq_last_6mths',\n",
       " 'open_acc',\n",
       " 'pub_rec',\n",
       " 'revol_bal',\n",
       " 'revol_util',\n",
       " 'total_acc',\n",
       " 'out_prncp',\n",
       " 'out_prncp_inv',\n",
       " 'total_pymnt',\n",
       " 'total_pymnt_inv',\n",
       " 'total_rec_prncp',\n",
       " 'total_rec_int',\n",
       " 'total_rec_late_fee',\n",
       " 'recoveries',\n",
       " 'collection_recovery_fee',\n",
       " 'last_pymnt_d',\n",
       " 'last_pymnt_amnt',\n",
       " 'last_credit_pull_d',\n",
       " 'pub_rec_bankruptcies']"
      ]
     },
     "execution_count": 38,
     "metadata": {},
     "output_type": "execute_result"
    }
   ],
   "source": [
    "df.columns.to_list()"
   ]
  },
  {
   "cell_type": "code",
   "execution_count": 39,
   "id": "bbdacc51",
   "metadata": {},
   "outputs": [],
   "source": [
    "#Stripping the % symbol in at the end for int_rate and converting it to float\n",
    "df['int_rate']= df.int_rate.apply(lambda x : x[0:-1]).astype(float)"
   ]
  },
  {
   "cell_type": "code",
   "execution_count": 40,
   "id": "fe8b8b6a",
   "metadata": {},
   "outputs": [],
   "source": [
    "#Stripping the % symbol in at the end for revol_util and converting it to float\n",
    "df['revol_util']= df.revol_util.apply(lambda x : x[0:-1]).astype(float)"
   ]
  },
  {
   "cell_type": "code",
   "execution_count": 41,
   "id": "80dcdc73",
   "metadata": {},
   "outputs": [],
   "source": [
    "# Creating new derived columns for different dates in the given data set.\n",
    "\n",
    "df['issue_d'] = pd.to_datetime(df['issue_d'], format='%b-%y')\n",
    "df['issue_d_year']=df['issue_d'].dt.year\n",
    "df['issue_d_month']=df['issue_d'].dt.month\n",
    "df['last_pymnt_d'] = pd.to_datetime(df['last_pymnt_d'], format='%b-%y')\n",
    "df['last_pymnt_d_year']=df['last_pymnt_d'].dt.year\n",
    "df['last_pymnt_d_month']=df['last_pymnt_d'].dt.month\n",
    "df['last_credit_pull_d'] = pd.to_datetime(df['last_credit_pull_d'], format='%b-%y')\n",
    "df['last_credit_pull_d_year']=df['last_credit_pull_d'].dt.year\n",
    "df['last_credit_pull_d_month']=df['last_credit_pull_d'].dt.month"
   ]
  },
  {
   "cell_type": "code",
   "execution_count": 42,
   "id": "31a5af46",
   "metadata": {},
   "outputs": [
    {
     "data": {
      "text/plain": [
       "(36433, 44)"
      ]
     },
     "execution_count": 42,
     "metadata": {},
     "output_type": "execute_result"
    }
   ],
   "source": [
    "df.shape"
   ]
  },
  {
   "cell_type": "code",
   "execution_count": 43,
   "id": "572df07e",
   "metadata": {},
   "outputs": [
    {
     "data": {
      "text/plain": [
       "loan_amnt                   0\n",
       "term                        0\n",
       "int_rate                    0\n",
       "installment                 0\n",
       "grade                       0\n",
       "sub_grade                   0\n",
       "emp_title                   0\n",
       "emp_length                  0\n",
       "home_ownership              0\n",
       "annual_inc                  0\n",
       "verification_status         0\n",
       "issue_d                     0\n",
       "loan_status                 0\n",
       "purpose                     0\n",
       "title                       0\n",
       "addr_state                  0\n",
       "dti                         0\n",
       "delinq_2yrs                 0\n",
       "earliest_cr_line            0\n",
       "inq_last_6mths              0\n",
       "open_acc                    0\n",
       "pub_rec                     0\n",
       "revol_bal                   0\n",
       "revol_util                  0\n",
       "total_acc                   0\n",
       "out_prncp                   0\n",
       "out_prncp_inv               0\n",
       "total_pymnt                 0\n",
       "total_pymnt_inv             0\n",
       "total_rec_prncp             0\n",
       "total_rec_int               0\n",
       "total_rec_late_fee          0\n",
       "recoveries                  0\n",
       "collection_recovery_fee     0\n",
       "last_pymnt_d                0\n",
       "last_pymnt_amnt             0\n",
       "last_credit_pull_d          0\n",
       "pub_rec_bankruptcies        0\n",
       "issue_d_year                0\n",
       "issue_d_month               0\n",
       "last_pymnt_d_year           0\n",
       "last_pymnt_d_month          0\n",
       "last_credit_pull_d_year     0\n",
       "last_credit_pull_d_month    0\n",
       "dtype: int64"
      ]
     },
     "execution_count": 43,
     "metadata": {},
     "output_type": "execute_result"
    }
   ],
   "source": [
    "df.isnull().sum()"
   ]
  },
  {
   "cell_type": "markdown",
   "id": "511ffd33",
   "metadata": {},
   "source": [
    "#### Univariate Analysis and Basic Stats- Quantitative Variables"
   ]
  },
  {
   "cell_type": "code",
   "execution_count": 44,
   "id": "12c71837",
   "metadata": {},
   "outputs": [
    {
     "name": "stdout",
     "output_type": "stream",
     "text": [
      "count    36433.000000\n",
      "mean     11307.679851\n",
      "std       7433.859357\n",
      "min        500.000000\n",
      "25%       5600.000000\n",
      "50%      10000.000000\n",
      "75%      15000.000000\n",
      "max      35000.000000\n",
      "Name: loan_amnt, dtype: float64\n"
     ]
    },
    {
     "data": {
      "image/png": "[encoded data removed]",
      "text/plain": [
       "<Figure size 432x288 with 1 Axes>"
      ]
     },
     "metadata": {
      "needs_background": "light"
     },
     "output_type": "display_data"
    }
   ],
   "source": [
    "# Printing basic stats and boxplot for loan_amount\n",
    "sns.boxplot(df.loan_amnt)\n",
    "print(df['loan_amnt'].describe())"
   ]
  },
  {
   "cell_type": "code",
   "execution_count": 45,
   "id": "af327470",
   "metadata": {},
   "outputs": [
    {
     "name": "stdout",
     "output_type": "stream",
     "text": [
      "count    36433.000000\n",
      "mean     12310.968657\n",
      "std       9048.420885\n",
      "min         33.730000\n",
      "25%       5672.557913\n",
      "50%      10101.589360\n",
      "75%      16700.719980\n",
      "max      58563.679930\n",
      "Name: total_pymnt, dtype: float64\n"
     ]
    },
    {
     "data": {
      "image/png": "[encoded data removed]",
      "text/plain": [
       "<Figure size 432x288 with 1 Axes>"
      ]
     },
     "metadata": {
      "needs_background": "light"
     },
     "output_type": "display_data"
    }
   ],
   "source": [
    "# Printing basic stats and boxplot for total_pymnt\n",
    "sns.boxplot(df.total_pymnt)\n",
    "print(df['total_pymnt'].describe())"
   ]
  },
  {
   "cell_type": "code",
   "execution_count": 46,
   "id": "8db4b736",
   "metadata": {},
   "outputs": [
    {
     "name": "stdout",
     "output_type": "stream",
     "text": [
      "count    3.643300e+04\n",
      "mean     6.930522e+04\n",
      "std      6.354244e+04\n",
      "min      4.000000e+03\n",
      "25%      4.200000e+04\n",
      "50%      6.000000e+04\n",
      "75%      8.300000e+04\n",
      "max      6.000000e+06\n",
      "Name: annual_inc, dtype: float64\n"
     ]
    },
    {
     "data": {
      "image/png": "[encoded data removed]",
      "text/plain": [
       "<Figure size 432x288 with 1 Axes>"
      ]
     },
     "metadata": {
      "needs_background": "light"
     },
     "output_type": "display_data"
    }
   ],
   "source": [
    "# Printing basic stats and boxplot for annual_inc\n",
    "sns.boxplot(df.annual_inc)\n",
    "print(df['annual_inc'].describe())"
   ]
  },
  {
   "cell_type": "code",
   "execution_count": 47,
   "id": "646987e0",
   "metadata": {},
   "outputs": [],
   "source": [
    "# As you can see there are few outliers in the income column and needs to be removed in order to have a clear visual box plot. Lets remove these.\n",
    "df = df[df[\"annual_inc\"] < df[\"annual_inc\"].quantile(0.99)]"
   ]
  },
  {
   "cell_type": "code",
   "execution_count": 48,
   "id": "5fac03e8",
   "metadata": {},
   "outputs": [
    {
     "name": "stdout",
     "output_type": "stream",
     "text": [
      "count     36064.000000\n",
      "mean      65910.824714\n",
      "std       34439.924455\n",
      "min        4000.000000\n",
      "25%       41500.000000\n",
      "50%       59779.505000\n",
      "75%       81717.000000\n",
      "max      228000.000000\n",
      "Name: annual_inc, dtype: float64\n"
     ]
    },
    {
     "data": {
      "image/png": "[encoded data removed]",
      "text/plain": [
       "<Figure size 432x288 with 1 Axes>"
      ]
     },
     "metadata": {
      "needs_background": "light"
     },
     "output_type": "display_data"
    }
   ],
   "source": [
    "sns.boxplot(df.annual_inc)\n",
    "print(df['annual_inc'].describe())"
   ]
  },
  {
   "cell_type": "markdown",
   "id": "3c83548b",
   "metadata": {},
   "source": [
    "#### Biavariate analysis- Lets print out the heatmap(corr matrix) between different variables.\n",
    "Some of the variables to be included involves:\n",
    "    1. loan amount\n",
    "    2. total amount\n",
    "    3. employment length\n",
    "    4. annual income\n",
    "    5. installment\n",
    "    6. interest rate\n",
    "    "
   ]
  },
  {
   "cell_type": "code",
   "execution_count": 51,
   "id": "8e37b8ed",
   "metadata": {},
   "outputs": [
    {
     "data": {
      "text/html": [
       "<div>\n",
       "<style scoped>\n",
       "    .dataframe tbody tr th:only-of-type {\n",
       "        vertical-align: middle;\n",
       "    }\n",
       "\n",
       "    .dataframe tbody tr th {\n",
       "        vertical-align: top;\n",
       "    }\n",
       "\n",
       "    .dataframe thead th {\n",
       "        text-align: right;\n",
       "    }\n",
       "</style>\n",
       "<table border=\"1\" class=\"dataframe\">\n",
       "  <thead>\n",
       "    <tr style=\"text-align: right;\">\n",
       "      <th></th>\n",
       "      <th>loan_amnt</th>\n",
       "      <th>total_pymnt</th>\n",
       "      <th>annual_inc</th>\n",
       "      <th>installment</th>\n",
       "      <th>int_rate</th>\n",
       "      <th>total_acc</th>\n",
       "      <th>last_pymnt_d_month</th>\n",
       "      <th>issue_d_month</th>\n",
       "    </tr>\n",
       "  </thead>\n",
       "  <tbody>\n",
       "    <tr>\n",
       "      <th>loan_amnt</th>\n",
       "      <td>1.000000</td>\n",
       "      <td>0.887510</td>\n",
       "      <td>0.407697</td>\n",
       "      <td>0.928347</td>\n",
       "      <td>0.305259</td>\n",
       "      <td>0.250626</td>\n",
       "      <td>-0.013663</td>\n",
       "      <td>0.067422</td>\n",
       "    </tr>\n",
       "    <tr>\n",
       "      <th>total_pymnt</th>\n",
       "      <td>0.887510</td>\n",
       "      <td>1.000000</td>\n",
       "      <td>0.387392</td>\n",
       "      <td>0.857783</td>\n",
       "      <td>0.308005</td>\n",
       "      <td>0.217916</td>\n",
       "      <td>-0.025362</td>\n",
       "      <td>0.046180</td>\n",
       "    </tr>\n",
       "    <tr>\n",
       "      <th>annual_inc</th>\n",
       "      <td>0.407697</td>\n",
       "      <td>0.387392</td>\n",
       "      <td>1.000000</td>\n",
       "      <td>0.403761</td>\n",
       "      <td>0.069399</td>\n",
       "      <td>0.381695</td>\n",
       "      <td>-0.006257</td>\n",
       "      <td>0.014932</td>\n",
       "    </tr>\n",
       "    <tr>\n",
       "      <th>installment</th>\n",
       "      <td>0.928347</td>\n",
       "      <td>0.857783</td>\n",
       "      <td>0.403761</td>\n",
       "      <td>1.000000</td>\n",
       "      <td>0.279573</td>\n",
       "      <td>0.225134</td>\n",
       "      <td>-0.003598</td>\n",
       "      <td>0.039637</td>\n",
       "    </tr>\n",
       "    <tr>\n",
       "      <th>int_rate</th>\n",
       "      <td>0.305259</td>\n",
       "      <td>0.308005</td>\n",
       "      <td>0.069399</td>\n",
       "      <td>0.279573</td>\n",
       "      <td>1.000000</td>\n",
       "      <td>-0.048348</td>\n",
       "      <td>-0.020161</td>\n",
       "      <td>0.038836</td>\n",
       "    </tr>\n",
       "    <tr>\n",
       "      <th>total_acc</th>\n",
       "      <td>0.250626</td>\n",
       "      <td>0.217916</td>\n",
       "      <td>0.381695</td>\n",
       "      <td>0.225134</td>\n",
       "      <td>-0.048348</td>\n",
       "      <td>1.000000</td>\n",
       "      <td>-0.003208</td>\n",
       "      <td>0.003380</td>\n",
       "    </tr>\n",
       "    <tr>\n",
       "      <th>last_pymnt_d_month</th>\n",
       "      <td>-0.013663</td>\n",
       "      <td>-0.025362</td>\n",
       "      <td>-0.006257</td>\n",
       "      <td>-0.003598</td>\n",
       "      <td>-0.020161</td>\n",
       "      <td>-0.003208</td>\n",
       "      <td>1.000000</td>\n",
       "      <td>0.242137</td>\n",
       "    </tr>\n",
       "    <tr>\n",
       "      <th>issue_d_month</th>\n",
       "      <td>0.067422</td>\n",
       "      <td>0.046180</td>\n",
       "      <td>0.014932</td>\n",
       "      <td>0.039637</td>\n",
       "      <td>0.038836</td>\n",
       "      <td>0.003380</td>\n",
       "      <td>0.242137</td>\n",
       "      <td>1.000000</td>\n",
       "    </tr>\n",
       "  </tbody>\n",
       "</table>\n",
       "</div>"
      ],
      "text/plain": [
       "                    loan_amnt  total_pymnt  annual_inc  installment  int_rate  \\\n",
       "loan_amnt            1.000000     0.887510    0.407697     0.928347  0.305259   \n",
       "total_pymnt          0.887510     1.000000    0.387392     0.857783  0.308005   \n",
       "annual_inc           0.407697     0.387392    1.000000     0.403761  0.069399   \n",
       "installment          0.928347     0.857783    0.403761     1.000000  0.279573   \n",
       "int_rate             0.305259     0.308005    0.069399     0.279573  1.000000   \n",
       "total_acc            0.250626     0.217916    0.381695     0.225134 -0.048348   \n",
       "last_pymnt_d_month  -0.013663    -0.025362   -0.006257    -0.003598 -0.020161   \n",
       "issue_d_month        0.067422     0.046180    0.014932     0.039637  0.038836   \n",
       "\n",
       "                    total_acc  last_pymnt_d_month  issue_d_month  \n",
       "loan_amnt            0.250626           -0.013663       0.067422  \n",
       "total_pymnt          0.217916           -0.025362       0.046180  \n",
       "annual_inc           0.381695           -0.006257       0.014932  \n",
       "installment          0.225134           -0.003598       0.039637  \n",
       "int_rate            -0.048348           -0.020161       0.038836  \n",
       "total_acc            1.000000           -0.003208       0.003380  \n",
       "last_pymnt_d_month  -0.003208            1.000000       0.242137  \n",
       "issue_d_month        0.003380            0.242137       1.000000  "
      ]
     },
     "execution_count": 51,
     "metadata": {},
     "output_type": "execute_result"
    }
   ],
   "source": [
    "corr_matrix= df[['loan_amnt', 'total_pymnt', 'emp_length', 'annual_inc', 'installment', 'int_rate', 'total_acc', 'last_pymnt_d_month', 'issue_d_month']]\n",
    "corr_matrix.corr()"
   ]
  },
  {
   "cell_type": "code",
   "execution_count": 63,
   "id": "261e4473",
   "metadata": {},
   "outputs": [
    {
     "data": {
      "text/plain": [
       "<seaborn.matrix.ClusterGrid at 0x1dc911b1340>"
      ]
     },
     "execution_count": 63,
     "metadata": {},
     "output_type": "execute_result"
    },
    {
     "data": {
      "text/plain": [
       "<Figure size 1152x360 with 0 Axes>"
      ]
     },
     "metadata": {},
     "output_type": "display_data"
    },
    {
     "data": {
      "image/png": "[encoded data removed]",
      "text/plain": [
       "<Figure size 720x720 with 4 Axes>"
      ]
     },
     "metadata": {
      "needs_background": "light"
     },
     "output_type": "display_data"
    }
   ],
   "source": [
    "plt.figure(figsize = (16,5))\n",
    "sns.clustermap(corr_matrix.corr(), annot=True, cmap=\"Greens\")"
   ]
  },
  {
   "cell_type": "code",
   "execution_count": null,
   "id": "ba6d498d",
   "metadata": {},
   "outputs": [],
   "source": []
  }
 ],
 "metadata": {
  "kernelspec": {
   "display_name": "Python 3",
   "language": "python",
   "name": "python3"
  },
  "language_info": {
   "codemirror_mode": {
    "name": "ipython",
    "version": 3
   },
   "file_extension": ".py",
   "mimetype": "text/x-python",
   "name": "python",
   "nbconvert_exporter": "python",
   "pygments_lexer": "ipython3",
   "version": "3.8.8"
  }
 },
 "nbformat": 4,
 "nbformat_minor": 5
}
